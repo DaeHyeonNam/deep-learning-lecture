{
 "cells": [
  {
   "cell_type": "markdown",
   "metadata": {
    "colab_type": "text",
    "id": "GCgnSTM4lCQX"
   },
   "source": [
    "# 딥러닝 특강\n",
    "## Deep Learning Practice \n",
    "\n",
    "\n",
    "#### Source from https://github.com/keai-kaist/CS492F-Spring\n",
    "\n",
    "---"
   ]
  },
  {
   "cell_type": "markdown",
   "metadata": {
    "colab_type": "text",
    "id": "5zje__vWlCQY"
   },
   "source": [
    "### 2-3. Overfitting and how to fight it"
   ]
  },
  {
   "cell_type": "markdown",
   "metadata": {
    "colab_type": "text",
    "id": "s4-rUBHxlCQZ"
   },
   "source": [
    "In the previous example, we saw that the accuracy of our model on the validation data would peak after training for a number of epochs, and would then start decreasing or being fixed.\n",
    "\n",
    "In other words, our model would _overfit to the training data_. Learning how to deal with overfitting is important. Although it's often possible to achieve high accuracy on the training set, what we really want is to develop models that generalize well to a testing set (or data they haven't seen before). If you train for too long though, the model will start to overfit and learn patterns from the training data that don't generalize to the test data. We need to strike a balance. Understanding how to train for an appropriate number of epochs as we'll explore below is a useful skill.\n",
    "\n",
    "To prevent overfitting, the best solution is to use more training data. A model trained on more data will naturally generalize better. When that is no longer possible, the next best solution is to use techniques like _regularization_. These place constraints on the quantity and type of information your model can store. If a network can only afford to memorize a small number of patterns, the optimization process will force it to focus on the most prominent patterns, which have a better chance of generalizing well.\n",
    "\n",
    "In this part, we'll explore two common regularization techniques, weight regularization and dropout, and use them to improve our model.\n",
    "\n",
    "First, we'll set up the environment as before."
   ]
  },
  {
   "cell_type": "code",
   "execution_count": null,
   "metadata": {
    "colab": {},
    "colab_type": "code",
    "id": "bhsmrJgKlCQZ"
   },
   "outputs": [],
   "source": [
    "from __future__ import absolute_import, division, print_function, unicode_literals\n",
    "import os \n",
    "os.environ[\"CUDA_VISIBLE_DEVICES\"]=\"1\"\n",
    "\n",
    "try:\n",
    "  # %tensorflow_version only exists in Colab.\n",
    "  %tensorflow_version 2.x\n",
    "except Exception:\n",
    "    pass\n",
    "import tensorflow as tf\n",
    "print('Tensorflow: ', tf.__version__)\n",
    "\n",
    "import numpy as np\n",
    "import matplotlib.pyplot as plt"
   ]
  },
  {
   "cell_type": "markdown",
   "metadata": {
    "colab_type": "text",
    "id": "1wYaiCAZlCQc"
   },
   "source": [
    "#### Load the MNIST dataset"
   ]
  },
  {
   "cell_type": "code",
   "execution_count": null,
   "metadata": {
    "colab": {},
    "colab_type": "code",
    "id": "1WSfmdxZlCQc"
   },
   "outputs": [],
   "source": [
    "mnist = tf.keras.datasets.mnist\n",
    "(train_images, train_labels), (test_images, test_labels) = mnist.load_data()\n",
    "\n",
    "## [TODO] Split train data into validation and train data\n",
    "\n",
    "train_images = np.expand_dims(train_images, axis=-1) / 255\n",
    "print(train_images.shape)\n",
    "\n",
    "validation_images = np.expand_dims(validation_images, axis= -1)/ 255\n",
    "print(validation_images.shape)\n",
    "\n",
    "train_labels = np.int64(train_labels)\n",
    "print(train_labels)\n",
    "\n",
    "test_images = np.expand_dims(test_images, axis=-1) / 255\n",
    "test_labels = np.int64(test_labels)\n",
    "class_names = ['0','1','2','3','4','5','6','7','8','9']"
   ]
  },
  {
   "cell_type": "markdown",
   "metadata": {
    "colab_type": "text",
    "id": "VNZV7ytAlCQh"
   },
   "source": [
    "#### Demonstrate overfitting by model size\n",
    "\n",
    "The simplest way to prevent overfitting is to reduce the size of the model, i.e. the number of learnable parameters in the model. In deep learning, the number of learnable parameters in a model is often referred to as the model's **\"_capacity_\"**. Intuitively, a model with more parameters will have more \"memorization capacity\" and therefore will be able to easily learn a perfect dictionary-like mapping between training samples and their targets, **a mapping without any generalization power, but this would be useless when making predictions on previously unseen data**.\n",
    "\n",
    "On the other hand, if the **network has limited memorization resources**, it will not be able to learn the mapping as easily. To minimize its loss, **it will have to learn compressed representations that have more predictive power.** At the same time, if you make your model too small, **it will have difficulty fitting to the training data.** There is a balance between \"too much capacity\" and \"not enough capacity\".\n",
    "\n",
    "To find an appropriate model size empirically, it's best to start with relatively few layers and parameters, then begin increasing the size of the layers or adding new layers until you see diminishing returns on the validation loss. Let's try this on our movie review classification network.\n",
    "\n",
    "We'll create a simple model using only Dense layers as a baseline, then create smaller and larger versions, and compare them."
   ]
  },
  {
   "cell_type": "markdown",
   "metadata": {
    "colab_type": "text",
    "id": "cuUWRQGMlCQi"
   },
   "source": [
    "#### Create a baseline model"
   ]
  },
  {
   "cell_type": "code",
   "execution_count": null,
   "metadata": {
    "colab": {},
    "colab_type": "code",
    "id": "hP_556mFlCQi"
   },
   "outputs": [],
   "source": [
    "# TODO: define a sequential model\n",
    "baseline_model = tf.keras.Sequential([\n",
    "    # TODO: add a flatten layer\n",
    "\n",
    "    # TODO: add the first dense layer with 512 nodes applying ReLU activation function\n",
    "\n",
    "    # TODO: add the first dense layer with 256 nodes applying ReLU activation function\n",
    "\n",
    "    # TODO: add the first dense layer with 128 nodes applying ReLU activation function\n",
    "\n",
    "    # TODO: add the last dense layer with 10 (the number of digits) nodes applying Softmax activation function\n",
    "])"
   ]
  },
  {
   "cell_type": "code",
   "execution_count": null,
   "metadata": {
    "colab": {},
    "colab_type": "code",
    "id": "J1zksiPMlCQk"
   },
   "outputs": [],
   "source": [
    "baseline_model.summary()"
   ]
  },
  {
   "cell_type": "code",
   "execution_count": null,
   "metadata": {
    "colab": {},
    "colab_type": "code",
    "id": "4myhDbk0lCQn"
   },
   "outputs": [],
   "source": [
    "baseline_model.compile(optimizer='adam', \n",
    "              loss='sparse_categorical_crossentropy',\n",
    "              metrics=['accuracy'])"
   ]
  },
  {
   "cell_type": "code",
   "execution_count": null,
   "metadata": {
    "colab": {},
    "colab_type": "code",
    "id": "ix2G5pS4lCQp"
   },
   "outputs": [],
   "source": [
    "BATCH_SIZE = 64\n",
    "EPOCHS = 10\n",
    "\n",
    "# TODO: Train the baseline model with partial training data and validation data we made \n",
    "baseline_history = baseline_model.fit()"
   ]
  },
  {
   "cell_type": "markdown",
   "metadata": {
    "colab_type": "text",
    "id": "cJ8Y3kvtlCQr"
   },
   "source": [
    "#### Create a smaller model\n",
    "Let's create a model with less hidden units to compare against the baseline model that we just created:"
   ]
  },
  {
   "cell_type": "code",
   "execution_count": null,
   "metadata": {
    "colab": {},
    "colab_type": "code",
    "id": "EbnR5ocAlCQs"
   },
   "outputs": [],
   "source": [
    "smaller_model = tf.keras.Sequential([\n",
    "    tf.keras.layers.Flatten(input_shape=train_images.shape[1:]),\n",
    "\n",
    "    tf.keras.layers.Dense(128, activation=tf.nn.relu),\n",
    "\n",
    "    tf.keras.layers.Dense(10, activation=tf.nn.softmax)\n",
    "])"
   ]
  },
  {
   "cell_type": "code",
   "execution_count": null,
   "metadata": {
    "colab": {},
    "colab_type": "code",
    "id": "p0Pk-kcilCQu"
   },
   "outputs": [],
   "source": [
    "smaller_model.summary()"
   ]
  },
  {
   "cell_type": "code",
   "execution_count": null,
   "metadata": {
    "colab": {},
    "colab_type": "code",
    "id": "Zv7Eq74ZlCQv"
   },
   "outputs": [],
   "source": [
    "smaller_model.compile(optimizer='adam', \n",
    "              loss='sparse_categorical_crossentropy',\n",
    "              metrics=['accuracy'])"
   ]
  },
  {
   "cell_type": "code",
   "execution_count": null,
   "metadata": {
    "colab": {},
    "colab_type": "code",
    "id": "cQeCOOYQlCQy"
   },
   "outputs": [],
   "source": [
    "# Train the smaller model with partial training data and validation data we made \n",
    "BATCH_SIZE = 64\n",
    "EPOCHS = 10\n",
    "\n",
    "# Train the baseline model with partial training data and validation data we made \n",
    "smaller_history = smaller_model.fit(train_images, \n",
    "                            train_labels, \n",
    "                            epochs=EPOCHS,\n",
    "                            validation_data=(validation_images, validation_labels),\n",
    "                            batch_size=BATCH_SIZE)"
   ]
  },
  {
   "cell_type": "markdown",
   "metadata": {
    "colab_type": "text",
    "id": "l1HQCiarlCQ1"
   },
   "source": [
    "#### Create a bigger model\n",
    "As an exercise, you can create an even larger model, and see how quickly it begins overfitting. Next, let's add to this benchmark a network that has much more capacity, far more than the problem would warrant:"
   ]
  },
  {
   "cell_type": "code",
   "execution_count": null,
   "metadata": {
    "colab": {},
    "colab_type": "code",
    "id": "qXCrRtDPlCQ1"
   },
   "outputs": [],
   "source": [
    "bigger_model = tf.keras.Sequential([\n",
    "    tf.keras.layers.Flatten(input_shape=train_images.shape[1:]),\n",
    "\n",
    "    tf.keras.layers.Dense(1024, activation=tf.nn.relu),\n",
    "\n",
    "    tf.keras.layers.Dense(512, activation=tf.nn.relu),\n",
    "\n",
    "    tf.keras.layers.Dense(256, activation=tf.nn.relu),\n",
    "\n",
    "    tf.keras.layers.Dense(128, activation=tf.nn.relu),\n",
    "\n",
    "    tf.keras.layers.Dense(10, activation=tf.nn.softmax)\n",
    "])"
   ]
  },
  {
   "cell_type": "code",
   "execution_count": null,
   "metadata": {
    "colab": {},
    "colab_type": "code",
    "id": "DxlF-gDdlCQ3"
   },
   "outputs": [],
   "source": [
    "bigger_model.summary()"
   ]
  },
  {
   "cell_type": "code",
   "execution_count": null,
   "metadata": {
    "colab": {},
    "colab_type": "code",
    "id": "VMlFvjXdlCQ5"
   },
   "outputs": [],
   "source": [
    "bigger_model.compile(\n",
    "              optimizer='adam', \n",
    "              loss='sparse_categorical_crossentropy',\n",
    "              metrics=['accuracy'])"
   ]
  },
  {
   "cell_type": "code",
   "execution_count": null,
   "metadata": {
    "colab": {},
    "colab_type": "code",
    "id": "e0E3gdgwlCQ8"
   },
   "outputs": [],
   "source": [
    "# Train the bigger model with partial training data and validation data we made \n",
    "bigger_history = bigger_model.fit(train_images, \n",
    "                            train_labels, \n",
    "                            epochs=EPOCHS,\n",
    "                            validation_data=(validation_images, validation_labels),\n",
    "                            batch_size=BATCH_SIZE)"
   ]
  },
  {
   "cell_type": "markdown",
   "metadata": {
    "colab_type": "text",
    "id": "K7q81-OslCQ-"
   },
   "source": [
    "#### Plot the training and validation loss\n",
    "The solid lines show the training loss, and the dashed lines show the validation loss (remember: a lower validation loss indicates a better model). Here, the smaller network begins overfitting later than the baseline model (after 6 epochs rather than 4) and its performance degrades much more slowly once it starts overfitting."
   ]
  },
  {
   "cell_type": "code",
   "execution_count": null,
   "metadata": {
    "colab": {},
    "colab_type": "code",
    "id": "pK24rq6llCQ-"
   },
   "outputs": [],
   "source": [
    "history_dict = baseline_history.history\n",
    "history_dict.keys()"
   ]
  },
  {
   "cell_type": "code",
   "execution_count": null,
   "metadata": {
    "colab": {},
    "colab_type": "code",
    "id": "XEDMqtoMlCRC"
   },
   "outputs": [],
   "source": [
    "def plot_history(histories, key='loss'):\n",
    "    plt.figure(figsize=(16,10))\n",
    "    \n",
    "    for name, history in histories:\n",
    "        val = plt.plot(history.epoch, history.history['val_'+key],\n",
    "                       '--', label=name.title()+' Val')\n",
    "        plt.plot(history.epoch, history.history[key], color=val[0].get_color(),\n",
    "                 label=name.title()+' Train')\n",
    "        \n",
    "    plt.xlabel('Epochs')\n",
    "    plt.ylabel(key.replace('_',' ').title())\n",
    "    plt.legend()\n",
    "    \n",
    "    plt.xlim([0,max(history.epoch)])"
   ]
  },
  {
   "cell_type": "code",
   "execution_count": null,
   "metadata": {
    "colab": {},
    "colab_type": "code",
    "id": "QGZlqZyNlCRE"
   },
   "outputs": [],
   "source": [
    "plot_history([('baseline', baseline_history),\n",
    "              ('smaller', smaller_history),\n",
    "              ('bigger', bigger_history)])"
   ]
  },
  {
   "cell_type": "markdown",
   "metadata": {
    "colab_type": "text",
    "id": "MEKYF39NlCRG"
   },
   "source": [
    "Notice that the larger network begins overfitting almost right away, after just one epoch, and overfits much more severely. **The more capacity the network has, the quicker it will be able to model the training data (resulting in a low training loss)**, but the more susceptible it is to overfitting (resulting in a large difference between the training and validation loss)."
   ]
  },
  {
   "cell_type": "markdown",
   "metadata": {
    "colab_type": "text",
    "id": "lBkp6sV5lCRH"
   },
   "source": [
    "#### Solution 1: Add weight regularization\n",
    "\n",
    "Given some training data and a network architecture, there are multiple sets of weights values (multiple models) that could explain the data, and simpler models are less likely to overfit than complex ones. A \"simple model\" in this context is a model where the distribution of parameter values has less entropy (or a model with fewer parameters altogether, as we saw in the section above). \n",
    "\n",
    "Thus a common way to mitigate overfitting is to **put constraints on the complexity of a network by forcing its weights only to take small values**, which **makes the distribution of weight values more \"regular\".** This is called **\"_weight regularization_\"**, and it is done by adding to the loss function of the network a cost associated with having large weights. This cost comes in two flavors:\n",
    "\n",
    " - [L1 regularization](https://developers.google.com/machine-learning/glossary/#L1_regularization), where the cost added is proportional to the absolute value of the weights coefficients (i.e. to what is called the \"L1 norm\" of the weights).\n",
    "\n",
    " - [L2 regularization](https://developers.google.com/machine-learning/glossary/#L2_regularization), where the cost added is proportional to the square of the value of the weights coefficients (i.e. to what is called the squared \"L2 norm\" of the weights). L2 regularization is also called weight decay in the context of neural networks. Don't let the different name confuse you: weight decay is mathematically the exact same as L2 regularization.\n",
    " \n",
    "In `tf.keras`, weight regularization is added by passing weight regularizer instances to layers as keyword arguments. Let's add L2 weight regularization now."
   ]
  },
  {
   "cell_type": "code",
   "execution_count": null,
   "metadata": {
    "colab": {},
    "colab_type": "code",
    "id": "sp94qgAxlCRH"
   },
   "outputs": [],
   "source": [
    "l2_model = tf.keras.Sequential([\n",
    "    # TODO: add a flatten layer\n",
    "\n",
    "    # TODO: add the first dense layer with 512 nodes applying ReLU activation function\n",
    "    #                   with L2 regularization term  (tf.keras.regularizers.l2)\n",
    "\n",
    "    # TODO: add the first dense layer with 256 nodes applying ReLU activation function\n",
    "    #                   with L2 regularization term  (tf.keras.regularizers.l2)\n",
    "\n",
    "    # TODO: add the first dense layer with 128 nodes applying ReLU activation function\n",
    "    #                   with L2 regularization term  (tf.keras.regularizers.l2)\n",
    "\n",
    "    # TODO: add the last dense layer with 10 (the number of digits) nodes applying Softmax activation function\n",
    "])"
   ]
  },
  {
   "cell_type": "code",
   "execution_count": null,
   "metadata": {
    "colab": {},
    "colab_type": "code",
    "id": "FbPb4X6JlCRJ"
   },
   "outputs": [],
   "source": [
    "l2_model.summary()"
   ]
  },
  {
   "cell_type": "code",
   "execution_count": null,
   "metadata": {
    "colab": {},
    "colab_type": "code",
    "id": "4qTaZnJWlCRM"
   },
   "outputs": [],
   "source": [
    "# Configure the model with \n",
    "#                optimize: Adam optimizer\n",
    "#                loss func: Binary crossentropy\n",
    "#                metrics: Accuracy\n",
    "l2_model.compile(\n",
    "         optimizer='adam', \n",
    "         loss='sparse_categorical_crossentropy',\n",
    "         metrics=['accuracy'])"
   ]
  },
  {
   "cell_type": "markdown",
   "metadata": {
    "colab_type": "text",
    "id": "-dk7JSQolCRN"
   },
   "source": [
    "l2(0.001) means that every coefficient in the weight matrix of the layer will add 0.001 * weight_coefficient_value**2 to the total loss of the network. Note that because this penalty is only added at training time, the loss for this network will be much higher at training than at test time.\n",
    "\n",
    "Here's the impact of our L2 regularization penalty:"
   ]
  },
  {
   "cell_type": "code",
   "execution_count": null,
   "metadata": {
    "colab": {},
    "colab_type": "code",
    "id": "jfcCA5JQlCRO"
   },
   "outputs": [],
   "source": [
    "# Train the l2 model with partial training data and validation data we made \n",
    "l2_model_history = l2_model.fit(train_images, \n",
    "                            train_labels, \n",
    "                            epochs=EPOCHS,\n",
    "                            validation_data=(validation_images, validation_labels),\n",
    "                            batch_size=BATCH_SIZE)"
   ]
  },
  {
   "cell_type": "code",
   "execution_count": null,
   "metadata": {
    "colab": {},
    "colab_type": "code",
    "id": "C3dieAEJlCRQ"
   },
   "outputs": [],
   "source": [
    "plot_history([('baseline', baseline_history),\n",
    "              ('l2', l2_model_history)])"
   ]
  },
  {
   "cell_type": "markdown",
   "metadata": {
    "colab_type": "text",
    "id": "0szAlvBulCRT"
   },
   "source": [
    "As you can see, the L2 regularized model has become much more resistant to overfitting than the baseline model, even though both models have the same number of parameters."
   ]
  },
  {
   "cell_type": "markdown",
   "metadata": {
    "colab_type": "text",
    "id": "5ckuFz1QlCRU"
   },
   "source": [
    "#### Solution 2: Add dropout\n",
    "\n",
    "Dropout is one of the most effective and most commonly used regularization techniques for neural networks. Dropout, applied to a layer, consists of randomly \"dropping out\" (i.e. set to zero) a number of output features of the layer during training. \n",
    "\n",
    "<img src=\"https://github.com/DaeHyeonNam/deep-learning-lecture/blob/master/images/dropout.png?raw=1\"  width=\"500\">\n",
    "\n",
    "The \"dropout rate\" is the fraction of the features that are being zeroed-out; it is usually set between 0.2 and 0.5. At test time, no units are dropped out, and instead the layer's output values are scaled down by a factor equal to the dropout rate, so as to balance for the fact that more units are active than at training time.\n",
    "\n",
    "In tf.keras you can introduce dropout in a network via the Dropout layer, which gets applied to the output of layer right before.\n",
    "\n",
    "Let's add two Dropout layers in our MNIST network to see how well they do at reducing overfitting:"
   ]
  },
  {
   "cell_type": "code",
   "execution_count": null,
   "metadata": {
    "colab": {},
    "colab_type": "code",
    "id": "-Z-FLGKzlCRU"
   },
   "outputs": [],
   "source": [
    "dp_model = tf.keras.Sequential([\n",
    "        # TODO: add a flatten layer\n",
    "    tf.keras.layers.Flatten(input_shape=train_images.shape[1:]),\n",
    "\n",
    "    # TODO: add a dropout layer with 0.2 dropout rate\n",
    "\n",
    "    tf.keras.layers.Dense(512, activation=tf.nn.relu),\n",
    "\n",
    "    # TODO: add a dropout layer with 0.2 dropout rate\n",
    "\n",
    "    tf.keras.layers.Dense(256, activation=tf.nn.relu),\n",
    "\n",
    "    # TODO: add a dropout layer with 0.2 dropout rate\n",
    "\n",
    "    tf.keras.layers.Dense(128, activation=tf.nn.relu),\n",
    "\n",
    "    # TODO: add a dropout layer with 0.2 dropout rate\n",
    "\n",
    "    tf.keras.layers.Dense(10, activation=tf.nn.softmax)\n",
    "])"
   ]
  },
  {
   "cell_type": "code",
   "execution_count": null,
   "metadata": {
    "colab": {},
    "colab_type": "code",
    "id": "aQuQ44Z0lCRW"
   },
   "outputs": [],
   "source": [
    "dp_model.summary()"
   ]
  },
  {
   "cell_type": "code",
   "execution_count": null,
   "metadata": {
    "colab": {},
    "colab_type": "code",
    "id": "b3wQNXXJlCRY"
   },
   "outputs": [],
   "source": [
    "# Configure the model with \n",
    "#                optimize: Adam optimizer\n",
    "#                loss func: Binary crossentropy\n",
    "#                metrics: Accuracy\n",
    "dp_model.compile(optimizer='adam', \n",
    "              loss='sparse_categorical_crossentropy',\n",
    "              metrics=['accuracy'])"
   ]
  },
  {
   "cell_type": "code",
   "execution_count": null,
   "metadata": {
    "colab": {},
    "colab_type": "code",
    "id": "Q9X6s4vHlCRZ"
   },
   "outputs": [],
   "source": [
    "# Train the dropout model with partial training data and validation data we made \n",
    "dp_model_history = dp_model.fit(train_images, \n",
    "                            train_labels, \n",
    "                            epochs=EPOCHS,\n",
    "                            validation_data=(validation_images, validation_labels),\n",
    "                            batch_size=BATCH_SIZE)"
   ]
  },
  {
   "cell_type": "code",
   "execution_count": null,
   "metadata": {
    "colab": {},
    "colab_type": "code",
    "id": "NCDYuU6JlCRb"
   },
   "outputs": [],
   "source": [
    "plot_history([('baseline', baseline_history),\n",
    "              ('dropout', dp_model_history)])"
   ]
  },
  {
   "cell_type": "markdown",
   "metadata": {
    "colab_type": "text",
    "id": "jp_-5h2mlCRd"
   },
   "source": [
    "Adding dropout is a clear improvement over the baseline model.\n",
    "\n",
    "To recap: here the most common ways to prevent overfitting in neural networks:\n",
    "\n",
    "- Get more training data.\n",
    "- Reduce the capacity of the network.\n",
    "- Add weight regularization.\n",
    "- Add dropout.\n",
    "\n",
    "And two important approaches not covered in this guide are data-augmentation and batch normalization."
   ]
  }
 ],
 "metadata": {
  "accelerator": "GPU",
  "colab": {
   "name": "Class 3-2.ipynb",
   "provenance": []
  },
  "kernelspec": {
   "display_name": "Python 3",
   "language": "python",
   "name": "python3"
  },
  "language_info": {
   "codemirror_mode": {
    "name": "ipython",
    "version": 3
   },
   "file_extension": ".py",
   "mimetype": "text/x-python",
   "name": "python",
   "nbconvert_exporter": "python",
   "pygments_lexer": "ipython3",
   "version": "3.7.6"
  }
 },
 "nbformat": 4,
 "nbformat_minor": 1
}
