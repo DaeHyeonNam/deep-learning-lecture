{
  "nbformat": 4,
  "nbformat_minor": 0,
  "metadata": {
    "kernelspec": {
      "display_name": "Python 3",
      "language": "python",
      "name": "python3"
    },
    "language_info": {
      "codemirror_mode": {
        "name": "ipython",
        "version": 3
      },
      "file_extension": ".py",
      "mimetype": "text/x-python",
      "name": "python",
      "nbconvert_exporter": "python",
      "pygments_lexer": "ipython3",
      "version": "3.7.6"
    },
    "colab": {
      "name": "Class 3-2.ipynb",
      "provenance": []
    },
    "accelerator": "GPU"
  },
  "cells": [
    {
      "cell_type": "markdown",
      "metadata": {
        "id": "GCgnSTM4lCQX",
        "colab_type": "text"
      },
      "source": [
        "# 딥러닝 특강\n",
        "## Deep Learning Practice \n",
        "\n",
        "\n",
        "#### Source from https://github.com/keai-kaist/CS492F-Spring\n",
        "\n",
        "---"
      ]
    },
    {
      "cell_type": "markdown",
      "metadata": {
        "id": "5zje__vWlCQY",
        "colab_type": "text"
      },
      "source": [
        "### 2-3. Overfitting and how to fight it"
      ]
    },
    {
      "cell_type": "markdown",
      "metadata": {
        "id": "s4-rUBHxlCQZ",
        "colab_type": "text"
      },
      "source": [
        "In the previous example, we saw that the accuracy of our model on the validation data would peak after training for a number of epochs, and would then start decreasing or being fixed.\n",
        "\n",
        "In other words, our model would _overfit to the training data_. Learning how to deal with overfitting is important. Although it's often possible to achieve high accuracy on the training set, what we really want is to develop models that generalize well to a testing set (or data they haven't seen before). If you train for too long though, the model will start to overfit and learn patterns from the training data that don't generalize to the test data. We need to strike a balance. Understanding how to train for an appropriate number of epochs as we'll explore below is a useful skill.\n",
        "\n",
        "To prevent overfitting, the best solution is to use more training data. A model trained on more data will naturally generalize better. When that is no longer possible, the next best solution is to use techniques like _regularization_. These place constraints on the quantity and type of information your model can store. If a network can only afford to memorize a small number of patterns, the optimization process will force it to focus on the most prominent patterns, which have a better chance of generalizing well.\n",
        "\n",
        "In this part, we'll explore two common regularization techniques, weight regularization and dropout, and use them to improve our model.\n",
        "\n",
        "First, we'll set up the environment as before."
      ]
    },
    {
      "cell_type": "code",
      "metadata": {
        "id": "bhsmrJgKlCQZ",
        "colab_type": "code",
        "colab": {
          "base_uri": "https://localhost:8080/",
          "height": 34
        },
        "outputId": "367ffdb1-1bc8-4060-e348-9a6776f9eee4"
      },
      "source": [
        "from __future__ import absolute_import, division, print_function, unicode_literals\n",
        "import os \n",
        "os.environ[\"CUDA_VISIBLE_DEVICES\"]=\"1\"\n",
        "\n",
        "try:\n",
        "  # %tensorflow_version only exists in Colab.\n",
        "  %tensorflow_version 2.x\n",
        "except Exception:\n",
        "    pass\n",
        "import tensorflow as tf\n",
        "print('Tensorflow: ', tf.__version__)\n",
        "\n",
        "import numpy as np\n",
        "import matplotlib.pyplot as plt"
      ],
      "execution_count": 1,
      "outputs": [
        {
          "output_type": "stream",
          "text": [
            "Tensorflow:  2.3.0\n"
          ],
          "name": "stdout"
        }
      ]
    },
    {
      "cell_type": "markdown",
      "metadata": {
        "id": "1wYaiCAZlCQc",
        "colab_type": "text"
      },
      "source": [
        "#### Load the MNIST dataset"
      ]
    },
    {
      "cell_type": "code",
      "metadata": {
        "id": "1WSfmdxZlCQc",
        "colab_type": "code",
        "colab": {
          "base_uri": "https://localhost:8080/",
          "height": 102
        },
        "outputId": "498ff34c-63e4-4d85-cf37-ebe798dd91ce"
      },
      "source": [
        "mnist = tf.keras.datasets.mnist\n",
        "(train_images, train_labels), (test_images, test_labels) = mnist.load_data()\n",
        "\n",
        "## Split train data into validation and train data\n",
        "validation_images = train_images[:10000]\n",
        "train_images = train_images[10000:]\n",
        "\n",
        "validation_labels = train_labels[:10000]\n",
        "train_labels = train_labels[10000:]\n",
        "\n",
        "train_images = np.expand_dims(train_images, axis=-1) / 255\n",
        "print(train_images.shape)\n",
        "\n",
        "validation_images = np.expand_dims(validation_images, axis= -1)/ 255\n",
        "print(validation_images.shape)\n",
        "\n",
        "train_labels = np.int64(train_labels)\n",
        "print(train_labels)\n",
        "\n",
        "test_images = np.expand_dims(test_images, axis=-1) / 255\n",
        "test_labels = np.int64(test_labels)\n",
        "class_names = ['0','1','2','3','4','5','6','7','8','9']"
      ],
      "execution_count": 2,
      "outputs": [
        {
          "output_type": "stream",
          "text": [
            "Downloading data from https://storage.googleapis.com/tensorflow/tf-keras-datasets/mnist.npz\n",
            "11493376/11490434 [==============================] - 0s 0us/step\n",
            "(50000, 28, 28, 1)\n",
            "(10000, 28, 28, 1)\n",
            "[3 8 7 ... 5 6 8]\n"
          ],
          "name": "stdout"
        }
      ]
    },
    {
      "cell_type": "markdown",
      "metadata": {
        "id": "VNZV7ytAlCQh",
        "colab_type": "text"
      },
      "source": [
        "#### Demonstrate overfitting by model size\n",
        "\n",
        "The simplest way to prevent overfitting is to reduce the size of the model, i.e. the number of learnable parameters in the model. In deep learning, the number of learnable parameters in a model is often referred to as the model's **\"_capacity_\"**. Intuitively, a model with more parameters will have more \"memorization capacity\" and therefore will be able to easily learn a perfect dictionary-like mapping between training samples and their targets, **a mapping without any generalization power, but this would be useless when making predictions on previously unseen data**.\n",
        "\n",
        "On the other hand, if the **network has limited memorization resources**, it will not be able to learn the mapping as easily. To minimize its loss, **it will have to learn compressed representations that have more predictive power.** At the same time, if you make your model too small, **it will have difficulty fitting to the training data.** There is a balance between \"too much capacity\" and \"not enough capacity\".\n",
        "\n",
        "To find an appropriate model size empirically, it's best to start with relatively few layers and parameters, then begin increasing the size of the layers or adding new layers until you see diminishing returns on the validation loss. Let's try this on our movie review classification network.\n",
        "\n",
        "We'll create a simple model using only Dense layers as a baseline, then create smaller and larger versions, and compare them."
      ]
    },
    {
      "cell_type": "markdown",
      "metadata": {
        "id": "cuUWRQGMlCQi",
        "colab_type": "text"
      },
      "source": [
        "#### Create a baseline model"
      ]
    },
    {
      "cell_type": "code",
      "metadata": {
        "id": "hP_556mFlCQi",
        "colab_type": "code",
        "colab": {
          "base_uri": "https://localhost:8080/",
          "height": 323
        },
        "outputId": "44b7eeb6-93d9-4237-825b-9f044792715e"
      },
      "source": [
        "# TODO: define a sequential model\n",
        "baseline_model = tf.keras.Sequential([\n",
        "    # TODO: add a flatten layer\n",
        "    tf.keras.layers.Flatten(input_shape=train_images.shape[1:]),\n",
        "\n",
        "    # TODO: add the first dense layer with 512 nodes applying ReLU activation function\n",
        "    tf.keras.layers.Dense(512, activation=tf.nn.relu),\n",
        "\n",
        "    # TODO: add the first dense layer with 256 nodes applying ReLU activation function\n",
        "    tf.keras.layers.Dense(256, activation=tf.nn.relu),\n",
        "\n",
        "    # TODO: add the first dense layer with 128 nodes applying ReLU activation function\n",
        "    tf.keras.layers.Dense(128, activation=tf.nn.relu),\n",
        "    \n",
        "    # TODO: add the last dense layer with 10 (the number of digits) nodes applying Softmax activation function\n",
        "    tf.keras.layers.Dense(10, activation=tf.nn.softmax)\n",
        "])\n",
        "\n",
        "baseline_model.summary()"
      ],
      "execution_count": 7,
      "outputs": [
        {
          "output_type": "stream",
          "text": [
            "Model: \"sequential_1\"\n",
            "_________________________________________________________________\n",
            "Layer (type)                 Output Shape              Param #   \n",
            "=================================================================\n",
            "flatten_1 (Flatten)          (None, 784)               0         \n",
            "_________________________________________________________________\n",
            "dense_4 (Dense)              (None, 512)               401920    \n",
            "_________________________________________________________________\n",
            "dense_5 (Dense)              (None, 256)               131328    \n",
            "_________________________________________________________________\n",
            "dense_6 (Dense)              (None, 128)               32896     \n",
            "_________________________________________________________________\n",
            "dense_7 (Dense)              (None, 10)                1290      \n",
            "=================================================================\n",
            "Total params: 567,434\n",
            "Trainable params: 567,434\n",
            "Non-trainable params: 0\n",
            "_________________________________________________________________\n"
          ],
          "name": "stdout"
        }
      ]
    },
    {
      "cell_type": "code",
      "metadata": {
        "id": "J1zksiPMlCQk",
        "colab_type": "code",
        "colab": {
          "base_uri": "https://localhost:8080/",
          "height": 323
        },
        "outputId": "6b6de778-1931-4fd7-c3b4-23501c3f9e94"
      },
      "source": [
        "baseline_model.summary()"
      ],
      "execution_count": 8,
      "outputs": [
        {
          "output_type": "stream",
          "text": [
            "Model: \"sequential_1\"\n",
            "_________________________________________________________________\n",
            "Layer (type)                 Output Shape              Param #   \n",
            "=================================================================\n",
            "flatten_1 (Flatten)          (None, 784)               0         \n",
            "_________________________________________________________________\n",
            "dense_4 (Dense)              (None, 512)               401920    \n",
            "_________________________________________________________________\n",
            "dense_5 (Dense)              (None, 256)               131328    \n",
            "_________________________________________________________________\n",
            "dense_6 (Dense)              (None, 128)               32896     \n",
            "_________________________________________________________________\n",
            "dense_7 (Dense)              (None, 10)                1290      \n",
            "=================================================================\n",
            "Total params: 567,434\n",
            "Trainable params: 567,434\n",
            "Non-trainable params: 0\n",
            "_________________________________________________________________\n"
          ],
          "name": "stdout"
        }
      ]
    },
    {
      "cell_type": "code",
      "metadata": {
        "id": "4myhDbk0lCQn",
        "colab_type": "code",
        "colab": {}
      },
      "source": [
        "baseline_model.compile(optimizer='adam', \n",
        "              loss='sparse_categorical_crossentropy',\n",
        "              metrics=['accuracy'])"
      ],
      "execution_count": 9,
      "outputs": []
    },
    {
      "cell_type": "code",
      "metadata": {
        "id": "ix2G5pS4lCQp",
        "colab_type": "code",
        "colab": {
          "base_uri": "https://localhost:8080/",
          "height": 357
        },
        "outputId": "b7340b90-ad84-4092-8a16-ea0820a0bf34"
      },
      "source": [
        "BATCH_SIZE = 64\n",
        "EPOCHS = 10\n",
        "\n",
        "# Train the baseline model with partial training data and validation data we made \n",
        "baseline_history = baseline_model.fit(train_images, \n",
        "                            train_labels, \n",
        "                            epochs=EPOCHS,\n",
        "                            validation_data=(validation_images, validation_labels),\n",
        "                            batch_size=BATCH_SIZE)"
      ],
      "execution_count": 10,
      "outputs": [
        {
          "output_type": "stream",
          "text": [
            "Epoch 1/10\n",
            "782/782 [==============================] - 6s 8ms/step - loss: 0.2205 - accuracy: 0.9330 - val_loss: 0.1156 - val_accuracy: 0.9656\n",
            "Epoch 2/10\n",
            "782/782 [==============================] - 6s 7ms/step - loss: 0.0902 - accuracy: 0.9723 - val_loss: 0.1241 - val_accuracy: 0.9611\n",
            "Epoch 3/10\n",
            "782/782 [==============================] - 6s 7ms/step - loss: 0.0600 - accuracy: 0.9806 - val_loss: 0.1115 - val_accuracy: 0.9692\n",
            "Epoch 4/10\n",
            "782/782 [==============================] - 6s 7ms/step - loss: 0.0448 - accuracy: 0.9853 - val_loss: 0.0863 - val_accuracy: 0.9776\n",
            "Epoch 5/10\n",
            "782/782 [==============================] - 6s 7ms/step - loss: 0.0362 - accuracy: 0.9879 - val_loss: 0.0931 - val_accuracy: 0.9753\n",
            "Epoch 6/10\n",
            "782/782 [==============================] - 6s 7ms/step - loss: 0.0303 - accuracy: 0.9903 - val_loss: 0.0850 - val_accuracy: 0.9780\n",
            "Epoch 7/10\n",
            "782/782 [==============================] - 6s 7ms/step - loss: 0.0247 - accuracy: 0.9923 - val_loss: 0.1004 - val_accuracy: 0.9730\n",
            "Epoch 8/10\n",
            "782/782 [==============================] - 6s 7ms/step - loss: 0.0250 - accuracy: 0.9921 - val_loss: 0.0880 - val_accuracy: 0.9771\n",
            "Epoch 9/10\n",
            "782/782 [==============================] - 6s 7ms/step - loss: 0.0200 - accuracy: 0.9934 - val_loss: 0.0941 - val_accuracy: 0.9800\n",
            "Epoch 10/10\n",
            "782/782 [==============================] - 6s 7ms/step - loss: 0.0203 - accuracy: 0.9936 - val_loss: 0.0969 - val_accuracy: 0.9776\n"
          ],
          "name": "stdout"
        }
      ]
    },
    {
      "cell_type": "markdown",
      "metadata": {
        "id": "cJ8Y3kvtlCQr",
        "colab_type": "text"
      },
      "source": [
        "#### Create a smaller model\n",
        "Let's create a model with less hidden units to compare against the baseline model that we just created:"
      ]
    },
    {
      "cell_type": "code",
      "metadata": {
        "id": "EbnR5ocAlCQs",
        "colab_type": "code",
        "colab": {}
      },
      "source": [
        "smaller_model = tf.keras.Sequential([\n",
        "    # TODO: add a flatten layer\n",
        "    tf.keras.layers.Flatten(input_shape=train_images.shape[1:]),\n",
        "\n",
        "    # TODO: add the first dense layer with 128 nodes applying ReLU activation function\n",
        "    tf.keras.layers.Dense(128, activation=tf.nn.relu),\n",
        "    \n",
        "    # TODO: add the last dense layer with 10 (the number of digits) nodes applying Softmax activation function\n",
        "    tf.keras.layers.Dense(10, activation=tf.nn.softmax)\n",
        "])"
      ],
      "execution_count": null,
      "outputs": []
    },
    {
      "cell_type": "code",
      "metadata": {
        "id": "p0Pk-kcilCQu",
        "colab_type": "code",
        "colab": {
          "base_uri": "https://localhost:8080/",
          "height": 255
        },
        "outputId": "6315ad21-de23-4662-abe5-96fa0a1aeea0"
      },
      "source": [
        "smaller_model.summary()"
      ],
      "execution_count": null,
      "outputs": [
        {
          "output_type": "stream",
          "text": [
            "Model: \"sequential_6\"\n",
            "_________________________________________________________________\n",
            "Layer (type)                 Output Shape              Param #   \n",
            "=================================================================\n",
            "flatten_6 (Flatten)          (None, 784)               0         \n",
            "_________________________________________________________________\n",
            "dense_20 (Dense)             (None, 128)               100480    \n",
            "_________________________________________________________________\n",
            "dense_21 (Dense)             (None, 10)                1290      \n",
            "=================================================================\n",
            "Total params: 101,770\n",
            "Trainable params: 101,770\n",
            "Non-trainable params: 0\n",
            "_________________________________________________________________\n"
          ],
          "name": "stdout"
        }
      ]
    },
    {
      "cell_type": "code",
      "metadata": {
        "id": "Zv7Eq74ZlCQv",
        "colab_type": "code",
        "colab": {}
      },
      "source": [
        "smaller_model.compile(optimizer='adam', \n",
        "              loss='sparse_categorical_crossentropy',\n",
        "              metrics=['accuracy'])"
      ],
      "execution_count": null,
      "outputs": []
    },
    {
      "cell_type": "code",
      "metadata": {
        "id": "cQeCOOYQlCQy",
        "colab_type": "code",
        "colab": {
          "base_uri": "https://localhost:8080/",
          "height": 357
        },
        "outputId": "69f454ca-804e-414c-e7d3-6d95e5572eec"
      },
      "source": [
        "# Train the smaller model with partial training data and validation data we made \n",
        "BATCH_SIZE = 64\n",
        "EPOCHS = 10\n",
        "\n",
        "# Train the baseline model with partial training data and validation data we made \n",
        "smaller_history = smaller_model.fit(train_images, \n",
        "                            train_labels, \n",
        "                            epochs=EPOCHS,\n",
        "                            validation_data=(validation_images, validation_labels),\n",
        "                            batch_size=BATCH_SIZE)"
      ],
      "execution_count": null,
      "outputs": [
        {
          "output_type": "stream",
          "text": [
            "Epoch 1/10\n",
            "782/782 [==============================] - 2s 3ms/step - loss: 0.3253 - accuracy: 0.9095 - val_loss: 0.1906 - val_accuracy: 0.9477\n",
            "Epoch 2/10\n",
            "782/782 [==============================] - 2s 3ms/step - loss: 0.1490 - accuracy: 0.9572 - val_loss: 0.1370 - val_accuracy: 0.9604\n",
            "Epoch 3/10\n",
            "782/782 [==============================] - 2s 3ms/step - loss: 0.1048 - accuracy: 0.9692 - val_loss: 0.1126 - val_accuracy: 0.9673\n",
            "Epoch 4/10\n",
            "782/782 [==============================] - 2s 3ms/step - loss: 0.0787 - accuracy: 0.9771 - val_loss: 0.1012 - val_accuracy: 0.9705\n",
            "Epoch 5/10\n",
            "782/782 [==============================] - 2s 3ms/step - loss: 0.0626 - accuracy: 0.9810 - val_loss: 0.1008 - val_accuracy: 0.9697\n",
            "Epoch 6/10\n",
            "782/782 [==============================] - 2s 3ms/step - loss: 0.0503 - accuracy: 0.9845 - val_loss: 0.0917 - val_accuracy: 0.9734\n",
            "Epoch 7/10\n",
            "782/782 [==============================] - 2s 3ms/step - loss: 0.0407 - accuracy: 0.9878 - val_loss: 0.0861 - val_accuracy: 0.9742\n",
            "Epoch 8/10\n",
            "782/782 [==============================] - 2s 3ms/step - loss: 0.0319 - accuracy: 0.9910 - val_loss: 0.0863 - val_accuracy: 0.9746\n",
            "Epoch 9/10\n",
            "782/782 [==============================] - 2s 3ms/step - loss: 0.0271 - accuracy: 0.9922 - val_loss: 0.0913 - val_accuracy: 0.9730\n",
            "Epoch 10/10\n",
            "782/782 [==============================] - 2s 3ms/step - loss: 0.0230 - accuracy: 0.9937 - val_loss: 0.0867 - val_accuracy: 0.9747\n"
          ],
          "name": "stdout"
        }
      ]
    },
    {
      "cell_type": "markdown",
      "metadata": {
        "id": "l1HQCiarlCQ1",
        "colab_type": "text"
      },
      "source": [
        "#### Create a bigger model\n",
        "As an exercise, you can create an even larger model, and see how quickly it begins overfitting. Next, let's add to this benchmark a network that has much more capacity, far more than the problem would warrant:"
      ]
    },
    {
      "cell_type": "code",
      "metadata": {
        "id": "qXCrRtDPlCQ1",
        "colab_type": "code",
        "colab": {}
      },
      "source": [
        "bigger_model = tf.keras.Sequential([\n",
        "    # TODO: add a flatten layer\n",
        "    tf.keras.layers.Flatten(input_shape=train_images.shape[1:]),\n",
        "\n",
        "    # TODO: add the first dense layer with 1024 nodes applying ReLU activation function\n",
        "    tf.keras.layers.Dense(1024, activation=tf.nn.relu),\n",
        "\n",
        "    # TODO: add the first dense layer with 512 nodes applying ReLU activation function\n",
        "    tf.keras.layers.Dense(512, activation=tf.nn.relu),\n",
        "\n",
        "    # TODO: add the first dense layer with 256 nodes applying ReLU activation function\n",
        "    tf.keras.layers.Dense(256, activation=tf.nn.relu),\n",
        "\n",
        "    # TODO: add the first dense layer with 128 nodes applying ReLU activation function\n",
        "    tf.keras.layers.Dense(128, activation=tf.nn.relu),\n",
        "    \n",
        "    # TODO: add the last dense layer with 10 (the number of digits) nodes applying Softmax activation function\n",
        "    tf.keras.layers.Dense(10, activation=tf.nn.softmax)\n",
        "])"
      ],
      "execution_count": null,
      "outputs": []
    },
    {
      "cell_type": "code",
      "metadata": {
        "id": "DxlF-gDdlCQ3",
        "colab_type": "code",
        "colab": {
          "base_uri": "https://localhost:8080/",
          "height": 357
        },
        "outputId": "20c1c651-dd28-4245-a6a6-eef112ed9b1e"
      },
      "source": [
        "bigger_model.summary()"
      ],
      "execution_count": null,
      "outputs": [
        {
          "output_type": "stream",
          "text": [
            "Model: \"sequential_7\"\n",
            "_________________________________________________________________\n",
            "Layer (type)                 Output Shape              Param #   \n",
            "=================================================================\n",
            "flatten_7 (Flatten)          (None, 784)               0         \n",
            "_________________________________________________________________\n",
            "dense_22 (Dense)             (None, 1024)              803840    \n",
            "_________________________________________________________________\n",
            "dense_23 (Dense)             (None, 512)               524800    \n",
            "_________________________________________________________________\n",
            "dense_24 (Dense)             (None, 256)               131328    \n",
            "_________________________________________________________________\n",
            "dense_25 (Dense)             (None, 128)               32896     \n",
            "_________________________________________________________________\n",
            "dense_26 (Dense)             (None, 10)                1290      \n",
            "=================================================================\n",
            "Total params: 1,494,154\n",
            "Trainable params: 1,494,154\n",
            "Non-trainable params: 0\n",
            "_________________________________________________________________\n"
          ],
          "name": "stdout"
        }
      ]
    },
    {
      "cell_type": "code",
      "metadata": {
        "id": "VMlFvjXdlCQ5",
        "colab_type": "code",
        "colab": {}
      },
      "source": [
        "\n",
        "bigger_model.compile(\n",
        "              optimizer='adam', \n",
        "              loss='sparse_categorical_crossentropy',\n",
        "              metrics=['accuracy'])"
      ],
      "execution_count": null,
      "outputs": []
    },
    {
      "cell_type": "code",
      "metadata": {
        "id": "e0E3gdgwlCQ8",
        "colab_type": "code",
        "colab": {
          "base_uri": "https://localhost:8080/",
          "height": 357
        },
        "outputId": "222e0bdc-578d-48e1-89f8-b3b56de27593"
      },
      "source": [
        "# Train the bigger model with partial training data and validation data we made \n",
        "bigger_history = bigger_model.fit(train_images, \n",
        "                            train_labels, \n",
        "                            epochs=EPOCHS,\n",
        "                            validation_data=(validation_images, validation_labels),\n",
        "                            batch_size=BATCH_SIZE)"
      ],
      "execution_count": null,
      "outputs": [
        {
          "output_type": "stream",
          "text": [
            "Epoch 1/10\n",
            "782/782 [==============================] - 15s 20ms/step - loss: 0.2195 - accuracy: 0.9321 - val_loss: 0.1428 - val_accuracy: 0.9571\n",
            "Epoch 2/10\n",
            "782/782 [==============================] - 15s 20ms/step - loss: 0.0968 - accuracy: 0.9702 - val_loss: 0.1304 - val_accuracy: 0.9577\n",
            "Epoch 3/10\n",
            "782/782 [==============================] - 15s 20ms/step - loss: 0.0674 - accuracy: 0.9790 - val_loss: 0.1112 - val_accuracy: 0.9673\n",
            "Epoch 4/10\n",
            "782/782 [==============================] - 15s 20ms/step - loss: 0.0523 - accuracy: 0.9840 - val_loss: 0.0846 - val_accuracy: 0.9738\n",
            "Epoch 5/10\n",
            "782/782 [==============================] - 15s 19ms/step - loss: 0.0427 - accuracy: 0.9865 - val_loss: 0.0837 - val_accuracy: 0.9783\n",
            "Epoch 6/10\n",
            "782/782 [==============================] - 15s 20ms/step - loss: 0.0373 - accuracy: 0.9887 - val_loss: 0.1014 - val_accuracy: 0.9762\n",
            "Epoch 7/10\n",
            "782/782 [==============================] - 15s 19ms/step - loss: 0.0317 - accuracy: 0.9906 - val_loss: 0.0906 - val_accuracy: 0.9776\n",
            "Epoch 8/10\n",
            "782/782 [==============================] - 15s 20ms/step - loss: 0.0258 - accuracy: 0.9923 - val_loss: 0.0920 - val_accuracy: 0.9777\n",
            "Epoch 9/10\n",
            "782/782 [==============================] - 16s 20ms/step - loss: 0.0237 - accuracy: 0.9928 - val_loss: 0.1230 - val_accuracy: 0.9728\n",
            "Epoch 10/10\n",
            "782/782 [==============================] - 15s 20ms/step - loss: 0.0239 - accuracy: 0.9930 - val_loss: 0.0954 - val_accuracy: 0.9765\n"
          ],
          "name": "stdout"
        }
      ]
    },
    {
      "cell_type": "markdown",
      "metadata": {
        "id": "K7q81-OslCQ-",
        "colab_type": "text"
      },
      "source": [
        "#### Plot the training and validation loss\n",
        "The solid lines show the training loss, and the dashed lines show the validation loss (remember: a lower validation loss indicates a better model). Here, the smaller network begins overfitting later than the baseline model (after 6 epochs rather than 4) and its performance degrades much more slowly once it starts overfitting."
      ]
    },
    {
      "cell_type": "code",
      "metadata": {
        "id": "pK24rq6llCQ-",
        "colab_type": "code",
        "colab": {
          "base_uri": "https://localhost:8080/",
          "height": 34
        },
        "outputId": "66da8607-a515-46a6-d45d-e5c1dd1737cc"
      },
      "source": [
        "history_dict = baseline_history.history\n",
        "history_dict.keys()"
      ],
      "execution_count": null,
      "outputs": [
        {
          "output_type": "execute_result",
          "data": {
            "text/plain": [
              "dict_keys(['loss', 'accuracy', 'val_loss', 'val_accuracy'])"
            ]
          },
          "metadata": {
            "tags": []
          },
          "execution_count": 26
        }
      ]
    },
    {
      "cell_type": "code",
      "metadata": {
        "id": "XEDMqtoMlCRC",
        "colab_type": "code",
        "colab": {}
      },
      "source": [
        "def plot_history(histories, key='loss'):\n",
        "    plt.figure(figsize=(16,10))\n",
        "    \n",
        "    for name, history in histories:\n",
        "        val = plt.plot(history.epoch, history.history['val_'+key],\n",
        "                       '--', label=name.title()+' Val')\n",
        "        plt.plot(history.epoch, history.history[key], color=val[0].get_color(),\n",
        "                 label=name.title()+' Train')\n",
        "        \n",
        "    plt.xlabel('Epochs')\n",
        "    plt.ylabel(key.replace('_',' ').title())\n",
        "    plt.legend()\n",
        "    \n",
        "    plt.xlim([0,max(history.epoch)])"
      ],
      "execution_count": 16,
      "outputs": []
    },
    {
      "cell_type": "code",
      "metadata": {
        "id": "QGZlqZyNlCRE",
        "colab_type": "code",
        "colab": {
          "base_uri": "https://localhost:8080/",
          "height": 606
        },
        "outputId": "aa8002de-74ed-40ff-8e18-b076f34d96b5"
      },
      "source": [
        "plot_history([('baseline', baseline_history),\n",
        "              ('smaller', smaller_history),\n",
        "              ('bigger', bigger_history)])"
      ],
      "execution_count": null,
      "outputs": [
        {
          "output_type": "display_data",
          "data": {
            "image/png": "[encoded data removed]",
            "text/plain": [
              "<Figure size 1152x720 with 1 Axes>"
            ]
          },
          "metadata": {
            "tags": [],
            "needs_background": "light"
          }
        }
      ]
    },
    {
      "cell_type": "markdown",
      "metadata": {
        "id": "MEKYF39NlCRG",
        "colab_type": "text"
      },
      "source": [
        "Notice that the larger network begins overfitting almost right away, after just one epoch, and overfits much more severely. **The more capacity the network has, the quicker it will be able to model the training data (resulting in a low training loss)**, but the more susceptible it is to overfitting (resulting in a large difference between the training and validation loss)."
      ]
    },
    {
      "cell_type": "markdown",
      "metadata": {
        "id": "lBkp6sV5lCRH",
        "colab_type": "text"
      },
      "source": [
        "#### Solution 1: Add weight regularization\n",
        "\n",
        "Given some training data and a network architecture, there are multiple sets of weights values (multiple models) that could explain the data, and simpler models are less likely to overfit than complex ones. A \"simple model\" in this context is a model where the distribution of parameter values has less entropy (or a model with fewer parameters altogether, as we saw in the section above). \n",
        "\n",
        "Thus a common way to mitigate overfitting is to **put constraints on the complexity of a network by forcing its weights only to take small values**, which **makes the distribution of weight values more \"regular\".** This is called **\"_weight regularization_\"**, and it is done by adding to the loss function of the network a cost associated with having large weights. This cost comes in two flavors:\n",
        "\n",
        " - [L1 regularization](https://developers.google.com/machine-learning/glossary/#L1_regularization), where the cost added is proportional to the absolute value of the weights coefficients (i.e. to what is called the \"L1 norm\" of the weights).\n",
        "\n",
        " - [L2 regularization](https://developers.google.com/machine-learning/glossary/#L2_regularization), where the cost added is proportional to the square of the value of the weights coefficients (i.e. to what is called the squared \"L2 norm\" of the weights). L2 regularization is also called weight decay in the context of neural networks. Don't let the different name confuse you: weight decay is mathematically the exact same as L2 regularization.\n",
        " \n",
        "In `tf.keras`, weight regularization is added by passing weight regularizer instances to layers as keyword arguments. Let's add L2 weight regularization now."
      ]
    },
    {
      "cell_type": "code",
      "metadata": {
        "id": "sp94qgAxlCRH",
        "colab_type": "code",
        "colab": {}
      },
      "source": [
        "l2_model = tf.keras.Sequential([\n",
        "        # TODO: add a flatten layer\n",
        "    tf.keras.layers.Flatten(input_shape=train_images.shape[1:]),\n",
        "\n",
        "    # TODO: add the first dense layer with 512 nodes applying ReLU activation function\n",
        "    #                   with L2 regularization term  (tf.keras.regularizers.l2)\n",
        "    tf.keras.layers.Dense(512,kernel_regularizer=tf.keras.regularizers.l2(0.001),  activation=tf.nn.relu),\n",
        "\n",
        "    # TODO: add the first dense layer with 256 nodes applying ReLU activation function\n",
        "    #                   with L2 regularization term  (tf.keras.regularizers.l2)\n",
        "    tf.keras.layers.Dense(256,kernel_regularizer=tf.keras.regularizers.l2(0.001),  activation=tf.nn.relu),\n",
        "\n",
        "    # TODO: add the first dense layer with 128 nodes applying ReLU activation function\n",
        "    #                   with L2 regularization term  (tf.keras.regularizers.l2)\n",
        "    tf.keras.layers.Dense(128, activation=tf.nn.relu),\n",
        "\n",
        "    # TODO: add the last dense layer with 10 (the number of digits) nodes applying Softmax activation function\n",
        "    tf.keras.layers.Dense(10, activation=tf.nn.softmax)\n",
        "])"
      ],
      "execution_count": null,
      "outputs": []
    },
    {
      "cell_type": "code",
      "metadata": {
        "id": "FbPb4X6JlCRJ",
        "colab_type": "code",
        "colab": {
          "base_uri": "https://localhost:8080/",
          "height": 323
        },
        "outputId": "e5a3d9dd-00c2-4abf-d81f-b0c41dacdd72"
      },
      "source": [
        "l2_model.summary()"
      ],
      "execution_count": null,
      "outputs": [
        {
          "output_type": "stream",
          "text": [
            "Model: \"sequential_11\"\n",
            "_________________________________________________________________\n",
            "Layer (type)                 Output Shape              Param #   \n",
            "=================================================================\n",
            "flatten_11 (Flatten)         (None, 784)               0         \n",
            "_________________________________________________________________\n",
            "dense_39 (Dense)             (None, 512)               401920    \n",
            "_________________________________________________________________\n",
            "dense_40 (Dense)             (None, 256)               131328    \n",
            "_________________________________________________________________\n",
            "dense_41 (Dense)             (None, 128)               32896     \n",
            "_________________________________________________________________\n",
            "dense_42 (Dense)             (None, 10)                1290      \n",
            "=================================================================\n",
            "Total params: 567,434\n",
            "Trainable params: 567,434\n",
            "Non-trainable params: 0\n",
            "_________________________________________________________________\n"
          ],
          "name": "stdout"
        }
      ]
    },
    {
      "cell_type": "code",
      "metadata": {
        "id": "4qTaZnJWlCRM",
        "colab_type": "code",
        "colab": {}
      },
      "source": [
        "# Configure the model with \n",
        "#                optimize: Adam optimizer\n",
        "#                loss func: Binary crossentropy\n",
        "#                metrics: Accuracy\n",
        "l2_model.compile(\n",
        "         optimizer='adam', \n",
        "         loss='sparse_categorical_crossentropy',\n",
        "         metrics=['accuracy'])"
      ],
      "execution_count": null,
      "outputs": []
    },
    {
      "cell_type": "markdown",
      "metadata": {
        "id": "-dk7JSQolCRN",
        "colab_type": "text"
      },
      "source": [
        "l2(0.001) means that every coefficient in the weight matrix of the layer will add 0.001 * weight_coefficient_value**2 to the total loss of the network. Note that because this penalty is only added at training time, the loss for this network will be much higher at training than at test time.\n",
        "\n",
        "Here's the impact of our L2 regularization penalty:"
      ]
    },
    {
      "cell_type": "code",
      "metadata": {
        "id": "jfcCA5JQlCRO",
        "colab_type": "code",
        "colab": {
          "base_uri": "https://localhost:8080/",
          "height": 357
        },
        "outputId": "98b3ff0f-ab31-44ee-87fc-3138343cdd38"
      },
      "source": [
        "# Train the l2 model with partial training data and validation data we made \n",
        "l2_model_history = l2_model.fit(train_images, \n",
        "                            train_labels, \n",
        "                            epochs=EPOCHS,\n",
        "                            validation_data=(validation_images, validation_labels),\n",
        "                            batch_size=BATCH_SIZE)"
      ],
      "execution_count": null,
      "outputs": [
        {
          "output_type": "stream",
          "text": [
            "Epoch 1/10\n",
            "782/782 [==============================] - 7s 9ms/step - loss: 0.6928 - accuracy: 0.9250 - val_loss: 0.4152 - val_accuracy: 0.9562\n",
            "Epoch 2/10\n",
            "782/782 [==============================] - 7s 9ms/step - loss: 0.3438 - accuracy: 0.9599 - val_loss: 0.2948 - val_accuracy: 0.9638\n",
            "Epoch 3/10\n",
            "782/782 [==============================] - 7s 9ms/step - loss: 0.2696 - accuracy: 0.9658 - val_loss: 0.2693 - val_accuracy: 0.9628\n",
            "Epoch 4/10\n",
            "782/782 [==============================] - 7s 9ms/step - loss: 0.2369 - accuracy: 0.9688 - val_loss: 0.2350 - val_accuracy: 0.9689\n",
            "Epoch 5/10\n",
            "782/782 [==============================] - 7s 9ms/step - loss: 0.2128 - accuracy: 0.9722 - val_loss: 0.2420 - val_accuracy: 0.9618\n",
            "Epoch 6/10\n",
            "782/782 [==============================] - 7s 9ms/step - loss: 0.1976 - accuracy: 0.9740 - val_loss: 0.2319 - val_accuracy: 0.9638\n",
            "Epoch 7/10\n",
            "782/782 [==============================] - 7s 9ms/step - loss: 0.1911 - accuracy: 0.9751 - val_loss: 0.2067 - val_accuracy: 0.9691\n",
            "Epoch 8/10\n",
            "782/782 [==============================] - 7s 9ms/step - loss: 0.1810 - accuracy: 0.9753 - val_loss: 0.1935 - val_accuracy: 0.9731\n",
            "Epoch 9/10\n",
            "782/782 [==============================] - 7s 9ms/step - loss: 0.1732 - accuracy: 0.9775 - val_loss: 0.1926 - val_accuracy: 0.9713\n",
            "Epoch 10/10\n",
            "782/782 [==============================] - 7s 9ms/step - loss: 0.1690 - accuracy: 0.9776 - val_loss: 0.2017 - val_accuracy: 0.9681\n"
          ],
          "name": "stdout"
        }
      ]
    },
    {
      "cell_type": "code",
      "metadata": {
        "id": "C3dieAEJlCRQ",
        "colab_type": "code",
        "colab": {
          "base_uri": "https://localhost:8080/",
          "height": 606
        },
        "outputId": "b74d6806-56e9-42b2-d4e3-3916dd175223"
      },
      "source": [
        "plot_history([('baseline', baseline_history),\n",
        "              ('l2', l2_model_history)])"
      ],
      "execution_count": null,
      "outputs": [
        {
          "output_type": "display_data",
          "data": {
            "image/png": "[encoded data removed]",
            "text/plain": [
              "<Figure size 1152x720 with 1 Axes>"
            ]
          },
          "metadata": {
            "tags": [],
            "needs_background": "light"
          }
        }
      ]
    },
    {
      "cell_type": "markdown",
      "metadata": {
        "id": "0szAlvBulCRT",
        "colab_type": "text"
      },
      "source": [
        "As you can see, the L2 regularized model has become much more resistant to overfitting than the baseline model, even though both models have the same number of parameters."
      ]
    },
    {
      "cell_type": "markdown",
      "metadata": {
        "id": "5ckuFz1QlCRU",
        "colab_type": "text"
      },
      "source": [
        "#### Solution 2: Add dropout\n",
        "\n",
        "Dropout is one of the most effective and most commonly used regularization techniques for neural networks. Dropout, applied to a layer, consists of randomly \"dropping out\" (i.e. set to zero) a number of output features of the layer during training. \n",
        "\n",
        "<img src=\"https://github.com/DaeHyeonNam/deep-learning-lecture/blob/master/images/dropout.png?raw=1\"  width=\"500\">\n",
        "\n",
        "The \"dropout rate\" is the fraction of the features that are being zeroed-out; it is usually set between 0.2 and 0.5. At test time, no units are dropped out, and instead the layer's output values are scaled down by a factor equal to the dropout rate, so as to balance for the fact that more units are active than at training time.\n",
        "\n",
        "In tf.keras you can introduce dropout in a network via the Dropout layer, which gets applied to the output of layer right before.\n",
        "\n",
        "Let's add two Dropout layers in our MNIST network to see how well they do at reducing overfitting:"
      ]
    },
    {
      "cell_type": "code",
      "metadata": {
        "id": "-Z-FLGKzlCRU",
        "colab_type": "code",
        "colab": {}
      },
      "source": [
        "dp_model = tf.keras.Sequential([\n",
        "        # TODO: add a flatten layer\n",
        "    tf.keras.layers.Flatten(input_shape=train_images.shape[1:]),\n",
        "\n",
        "    # TODO: add a dropout layer with 0.2 dropout rate\n",
        "    tf.keras.layers.Dropout(0.2),\n",
        "\n",
        "    # TODO: add the first dense layer with 512 nodes applying ReLU activation function\n",
        "    tf.keras.layers.Dense(512, activation=tf.nn.relu),\n",
        "\n",
        "    # TODO: add a dropout layer with 0.2 dropout rate\n",
        "    tf.keras.layers.Dropout(0.2),\n",
        "\n",
        "    # TODO: add the first dense layer with 256 nodes applying ReLU activation function\n",
        "    tf.keras.layers.Dense(256, activation=tf.nn.relu),\n",
        "\n",
        "    # TODO: add a dropout layer with 0.2 dropout rate\n",
        "    tf.keras.layers.Dropout(0.2),\n",
        "\n",
        "    # TODO: add the first dense layer with 128 nodes applying ReLU activation function\n",
        "    tf.keras.layers.Dense(128, activation=tf.nn.relu),\n",
        "\n",
        "    # TODO: add a dropout layer with 0.2 dropout rate\n",
        "    tf.keras.layers.Dropout(0.2),\n",
        "\n",
        "    # TODO: add the last dense layer with 10 (the number of digits) nodes applying Softmax activation function\n",
        "    tf.keras.layers.Dense(10, activation=tf.nn.softmax)\n",
        "])"
      ],
      "execution_count": 11,
      "outputs": []
    },
    {
      "cell_type": "code",
      "metadata": {
        "id": "aQuQ44Z0lCRW",
        "colab_type": "code",
        "colab": {
          "base_uri": "https://localhost:8080/",
          "height": 459
        },
        "outputId": "2520a502-4480-4815-9e53-9df91b7f9c41"
      },
      "source": [
        "dp_model.summary()"
      ],
      "execution_count": 12,
      "outputs": [
        {
          "output_type": "stream",
          "text": [
            "Model: \"sequential_2\"\n",
            "_________________________________________________________________\n",
            "Layer (type)                 Output Shape              Param #   \n",
            "=================================================================\n",
            "flatten_2 (Flatten)          (None, 784)               0         \n",
            "_________________________________________________________________\n",
            "dropout_4 (Dropout)          (None, 784)               0         \n",
            "_________________________________________________________________\n",
            "dense_8 (Dense)              (None, 512)               401920    \n",
            "_________________________________________________________________\n",
            "dropout_5 (Dropout)          (None, 512)               0         \n",
            "_________________________________________________________________\n",
            "dense_9 (Dense)              (None, 256)               131328    \n",
            "_________________________________________________________________\n",
            "dropout_6 (Dropout)          (None, 256)               0         \n",
            "_________________________________________________________________\n",
            "dense_10 (Dense)             (None, 128)               32896     \n",
            "_________________________________________________________________\n",
            "dropout_7 (Dropout)          (None, 128)               0         \n",
            "_________________________________________________________________\n",
            "dense_11 (Dense)             (None, 10)                1290      \n",
            "=================================================================\n",
            "Total params: 567,434\n",
            "Trainable params: 567,434\n",
            "Non-trainable params: 0\n",
            "_________________________________________________________________\n"
          ],
          "name": "stdout"
        }
      ]
    },
    {
      "cell_type": "code",
      "metadata": {
        "id": "b3wQNXXJlCRY",
        "colab_type": "code",
        "colab": {}
      },
      "source": [
        "# Configure the model with \n",
        "#                optimize: Adam optimizer\n",
        "#                loss func: Binary crossentropy\n",
        "#                metrics: Accuracy\n",
        "dp_model.compile(\n",
        "optimizer='adam', \n",
        "              loss='sparse_categorical_crossentropy',\n",
        "              metrics=['accuracy']\n",
        "\n",
        ")"
      ],
      "execution_count": 13,
      "outputs": []
    },
    {
      "cell_type": "code",
      "metadata": {
        "id": "Q9X6s4vHlCRZ",
        "colab_type": "code",
        "colab": {
          "base_uri": "https://localhost:8080/",
          "height": 357
        },
        "outputId": "c13d6d01-2851-4527-a7bb-38776ac65b7e"
      },
      "source": [
        "# Train the dropout model with partial training data and validation data we made \n",
        "\n",
        "dp_model_history = dp_model.fit(train_images, \n",
        "                            train_labels, \n",
        "                            epochs=EPOCHS,\n",
        "                            validation_data=(validation_images, validation_labels),\n",
        "                            batch_size=BATCH_SIZE)"
      ],
      "execution_count": 14,
      "outputs": [
        {
          "output_type": "stream",
          "text": [
            "Epoch 1/10\n",
            "782/782 [==============================] - 7s 9ms/step - loss: 0.3446 - accuracy: 0.8941 - val_loss: 0.1476 - val_accuracy: 0.9559\n",
            "Epoch 2/10\n",
            "782/782 [==============================] - 7s 8ms/step - loss: 0.1620 - accuracy: 0.9504 - val_loss: 0.0993 - val_accuracy: 0.9698\n",
            "Epoch 3/10\n",
            "782/782 [==============================] - 7s 9ms/step - loss: 0.1259 - accuracy: 0.9617 - val_loss: 0.0775 - val_accuracy: 0.9772\n",
            "Epoch 4/10\n",
            "782/782 [==============================] - 7s 9ms/step - loss: 0.1089 - accuracy: 0.9669 - val_loss: 0.0799 - val_accuracy: 0.9761\n",
            "Epoch 5/10\n",
            "782/782 [==============================] - 7s 9ms/step - loss: 0.0912 - accuracy: 0.9720 - val_loss: 0.0766 - val_accuracy: 0.9779\n",
            "Epoch 6/10\n",
            "782/782 [==============================] - 7s 9ms/step - loss: 0.0863 - accuracy: 0.9728 - val_loss: 0.0782 - val_accuracy: 0.9770\n",
            "Epoch 7/10\n",
            "782/782 [==============================] - 7s 9ms/step - loss: 0.0762 - accuracy: 0.9762 - val_loss: 0.0706 - val_accuracy: 0.9789\n",
            "Epoch 8/10\n",
            "782/782 [==============================] - 7s 9ms/step - loss: 0.0706 - accuracy: 0.9782 - val_loss: 0.0636 - val_accuracy: 0.9820\n",
            "Epoch 9/10\n",
            "782/782 [==============================] - 7s 9ms/step - loss: 0.0661 - accuracy: 0.9794 - val_loss: 0.0794 - val_accuracy: 0.9783\n",
            "Epoch 10/10\n",
            "782/782 [==============================] - 7s 9ms/step - loss: 0.0620 - accuracy: 0.9804 - val_loss: 0.0707 - val_accuracy: 0.9806\n"
          ],
          "name": "stdout"
        }
      ]
    },
    {
      "cell_type": "code",
      "metadata": {
        "id": "NCDYuU6JlCRb",
        "colab_type": "code",
        "colab": {
          "base_uri": "https://localhost:8080/",
          "height": 606
        },
        "outputId": "00c54671-f4d6-49ed-9082-b5d689d581e5"
      },
      "source": [
        "plot_history([('baseline', baseline_history),\n",
        "              ('dropout', dp_model_history)])"
      ],
      "execution_count": 17,
      "outputs": [
        {
          "output_type": "display_data",
          "data": {
            "image/png": "[encoded data removed]",
            "text/plain": [
              "<Figure size 1152x720 with 1 Axes>"
            ]
          },
          "metadata": {
            "tags": [],
            "needs_background": "light"
          }
        }
      ]
    },
    {
      "cell_type": "markdown",
      "metadata": {
        "id": "jp_-5h2mlCRd",
        "colab_type": "text"
      },
      "source": [
        "Adding dropout is a clear improvement over the baseline model.\n",
        "\n",
        "To recap: here the most common ways to prevent overfitting in neural networks:\n",
        "\n",
        "- Get more training data.\n",
        "- Reduce the capacity of the network.\n",
        "- Add weight regularization.\n",
        "- Add dropout.\n",
        "\n",
        "And two important approaches not covered in this guide are data-augmentation and batch normalization."
      ]
    }
  ]
}